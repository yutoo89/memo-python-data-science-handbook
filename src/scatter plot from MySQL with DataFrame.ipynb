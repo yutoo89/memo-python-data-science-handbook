{
 "cells": [
  {
   "cell_type": "code",
   "execution_count": 6,
   "id": "c22e8c40",
   "metadata": {},
   "outputs": [
    {
     "name": "stdout",
     "output_type": "stream",
     "text": [
      "   user_count  login_user_count\n",
      "0         119                14\n",
      "1         836                74\n",
      "2          12                 9\n",
      "3         175                18\n"
     ]
    },
    {
     "data": {
      "text/plain": [
       "<matplotlib.collections.PathCollection at 0x7fb08f16ef70>"
      ]
     },
     "execution_count": 6,
     "metadata": {},
     "output_type": "execute_result"
    },
    {
     "data": {
      "image/png": "[encoded data removed]",
      "text/plain": [
       "<Figure size 432x288 with 1 Axes>"
      ]
     },
     "metadata": {
      "needs_background": "light"
     },
     "output_type": "display_data"
    }
   ],
   "source": [
    "import numpy as np\n",
    "import pandas as pd\n",
    "import matplotlib.pyplot as plt\n",
    "from database.mysql_manager import MysqlManager\n",
    "\n",
    "mysql = MysqlManager()\n",
    "mysql.start_server()\n",
    "conn = mysql.db_connect()\n",
    "curs = conn.cursor()\n",
    "sql = \"\"\"\n",
    "SELECT user_count, login_user_count\n",
    "FROM (\n",
    "\tSELECT site_id, MAX(login_count) login_user_count FROM pass_monthly_login_user_counts GROUP BY site_id\n",
    ") login_user_counts\n",
    "JOIN (\n",
    "\tSELECT site_id, count(*) user_count FROM pass_users GROUP BY site_id\n",
    ") user_counts\n",
    "ON login_user_counts.site_id = user_counts.site_id\n",
    "\"\"\"\n",
    "\n",
    "df = pd.read_sql(sql,con = conn)\n",
    "\n",
    "curs.close\n",
    "conn.close\n",
    "mysql.close_server()\n",
    "\n",
    "print(df)\n",
    "\n",
    "plt.scatter(df['user_count'], df['login_user_count'])"
   ]
  }
 ],
 "metadata": {
  "kernelspec": {
   "display_name": "Python 3 (ipykernel)",
   "language": "python",
   "name": "python3"
  },
  "language_info": {
   "codemirror_mode": {
    "name": "ipython",
    "version": 3
   },
   "file_extension": ".py",
   "mimetype": "text/x-python",
   "name": "python",
   "nbconvert_exporter": "python",
   "pygments_lexer": "ipython3",
   "version": "3.9.12"
  }
 },
 "nbformat": 4,
 "nbformat_minor": 5
}
